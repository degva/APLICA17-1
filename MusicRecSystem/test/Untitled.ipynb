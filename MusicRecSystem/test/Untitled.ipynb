{
 "cells": [
  {
   "cell_type": "code",
   "execution_count": 6,
   "metadata": {},
   "outputs": [
    {
     "name": "stdout",
     "output_type": "stream",
     "text": [
      "Evaluating RMSE, MAE of algorithm SVD.\n",
      "\n",
      "------------\n",
      "Fold 1\n",
      "RMSE: 0.9336\n",
      "MAE:  0.7351\n",
      "------------\n",
      "Fold 2\n",
      "RMSE: 0.9303\n",
      "MAE:  0.7336\n",
      "------------\n",
      "Fold 3\n",
      "RMSE: 0.9347\n",
      "MAE:  0.7397\n",
      "------------\n",
      "Fold 4\n",
      "RMSE: 0.9429\n",
      "MAE:  0.7426\n",
      "------------\n",
      "Fold 5\n",
      "RMSE: 0.9363\n",
      "MAE:  0.7380\n",
      "------------\n",
      "------------\n",
      "Mean RMSE: 0.9356\n",
      "Mean MAE : 0.7378\n",
      "------------\n",
      "------------\n",
      "user: 196        item: 302        r_ui = 4.00   est = 4.33   {'was_impossible': False}\n"
     ]
    }
   ],
   "source": [
    "import zipfile\n",
    "from surprise import Reader, Dataset, SVD, evaluate\n",
    "\n",
    "zipfile = zipfile.ZipFile('ml-100k.zip', 'r')\n",
    "zipfile.extractall()\n",
    "zipfile.close()\n",
    "\n",
    "with open('./ml-100k/u.data') as f:\n",
    "    all_lines = f.readlines()\n",
    "\n",
    "reader = Reader(line_format='user item rating timestamp', sep='\\t')\n",
    "data = Dataset.load_from_file('./ml-100k/u.data', reader=reader)\n",
    "\n",
    "data.split(n_folds=5)\n",
    "algo = SVD()\n",
    "\n",
    "evaluate(algo, data, measures=['RMSE', 'MAE'])\n",
    "\n",
    "trainset = data.build_full_trainset()\n",
    "algo.train(trainset)\n",
    "\n",
    "userid = str(196)\n",
    "itemid = str(302)\n",
    "actual_rating = 4\n",
    "print(algo.predict(userid, itemid, actual_rating))"
   ]
  }
 ],
 "metadata": {
  "kernelspec": {
   "display_name": "Python 3",
   "language": "python",
   "name": "python3"
  },
  "language_info": {
   "codemirror_mode": {
    "name": "ipython",
    "version": 3
   },
   "file_extension": ".py",
   "mimetype": "text/x-python",
   "name": "python",
   "nbconvert_exporter": "python",
   "pygments_lexer": "ipython3",
   "version": "3.6.1"
  }
 },
 "nbformat": 4,
 "nbformat_minor": 2
}
