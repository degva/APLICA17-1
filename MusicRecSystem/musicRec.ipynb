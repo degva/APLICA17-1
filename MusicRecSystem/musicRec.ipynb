{
 "cells": [
  {
   "cell_type": "markdown",
   "metadata": {},
   "source": [
    "# Music Recommendation System\n",
    "\n",
    "This is a project for the Aplica- course.\n",
    "\n",
    "Year 2017, first period.\n",
    "\n",
    "Students:\n",
    "- Diego Vargas\n",
    "- Andre Pando\n",
    "- Ronie Arauco\n",
    "\n",
    "## Making familiar with the dataset"
   ]
  },
  {
   "cell_type": "code",
   "execution_count": 3,
   "metadata": {
    "collapsed": true
   },
   "outputs": [],
   "source": [
    "import numpy as np\n",
    "import pandas as pd\n",
    "import codecs\n",
    "# import matplotlib.pyplot as plt\n",
    "# %matplotlib inline\n",
    "\n",
    "artists = pd.read_table(\"./lastfm-data/artists.dat\", encoding = 'latin1')\n",
    "tags = pd.read_table(\"./lastfm-data/tags.dat\", encoding = 'latin1')\n",
    "user_artists = pd.read_table(\"./lastfm-data/user_artists.dat\", encoding = 'latin1')\n",
    "user_taggedartists = pd.read_table(\"./lastfm-data/user_taggedartists.dat\",encoding = 'latin1')\n",
    "user_friends = pd.read_table(\"./lastfm-data/user_friends.dat\",encoding = 'latin1')\n",
    "\n",
    "\n",
    "# Information taken from\n",
    "#    Last.fm website, http://www.lastfm.com\n",
    "#\n",
    "#    @inproceedings{Cantador:RecSys2011,\n",
    "#       author = {Cantador, Iv\\'{a}n and Brusilovsky, Peter and Kuflik, Tsvi},\n",
    "#       title = {2nd Workshop on Information Heterogeneity and Fusion in Recommender Systems (HetRec 2011)},\n",
    "#       booktitle = {Proceedings of the 5th ACM conference on Recommender systems},\n",
    "#       series = {RecSys 2011},\n",
    "#       year = {2011},\n",
    "#       location = {Chicago, IL, USA},\n",
    "#       publisher = {ACM},\n",
    "#       address = {New York, NY, USA},\n",
    "#       keywords = {information heterogeneity, information integration, recommender systems},\n",
    "#    } "
   ]
  },
  {
   "cell_type": "code",
   "execution_count": 4,
   "metadata": {},
   "outputs": [
    {
     "data": {
      "text/html": [
       "<div>\n",
       "<table border=\"1\" class=\"dataframe\">\n",
       "  <thead>\n",
       "    <tr style=\"text-align: right;\">\n",
       "      <th></th>\n",
       "      <th>id</th>\n",
       "      <th>name</th>\n",
       "      <th>url</th>\n",
       "      <th>pictureURL</th>\n",
       "    </tr>\n",
       "  </thead>\n",
       "  <tbody>\n",
       "    <tr>\n",
       "      <th>2251</th>\n",
       "      <td>2266</td>\n",
       "      <td>Kind of Like Spitting</td>\n",
       "      <td>http://www.last.fm/music/Kind+of+Like+Spitting</td>\n",
       "      <td>http://userserve-ak.last.fm/serve/252/18552.jpg</td>\n",
       "    </tr>\n",
       "    <tr>\n",
       "      <th>2245</th>\n",
       "      <td>2260</td>\n",
       "      <td>K-Dee</td>\n",
       "      <td>http://www.last.fm/music/K-Dee</td>\n",
       "      <td>http://userserve-ak.last.fm/serve/252/34474585...</td>\n",
       "    </tr>\n",
       "    <tr>\n",
       "      <th>1871</th>\n",
       "      <td>1880</td>\n",
       "      <td>Fashion</td>\n",
       "      <td>http://www.last.fm/music/Fashion</td>\n",
       "      <td>http://userserve-ak.last.fm/serve/252/48583585...</td>\n",
       "    </tr>\n",
       "  </tbody>\n",
       "</table>\n",
       "</div>"
      ],
      "text/plain": [
       "        id                   name  \\\n",
       "2251  2266  Kind of Like Spitting   \n",
       "2245  2260                  K-Dee   \n",
       "1871  1880                Fashion   \n",
       "\n",
       "                                                 url  \\\n",
       "2251  http://www.last.fm/music/Kind+of+Like+Spitting   \n",
       "2245                  http://www.last.fm/music/K-Dee   \n",
       "1871                http://www.last.fm/music/Fashion   \n",
       "\n",
       "                                             pictureURL  \n",
       "2251    http://userserve-ak.last.fm/serve/252/18552.jpg  \n",
       "2245  http://userserve-ak.last.fm/serve/252/34474585...  \n",
       "1871  http://userserve-ak.last.fm/serve/252/48583585...  "
      ]
     },
     "execution_count": 4,
     "metadata": {},
     "output_type": "execute_result"
    }
   ],
   "source": [
    "# Contains information about the artists that has been listened and tagged\n",
    "# by the users\n",
    "# id \\t name \\t url \\t pictureURL\n",
    "# artists.shape\n",
    "artists.sample(3)"
   ]
  },
  {
   "cell_type": "code",
   "execution_count": 5,
   "metadata": {},
   "outputs": [
    {
     "data": {
      "text/html": [
       "<div>\n",
       "<table border=\"1\" class=\"dataframe\">\n",
       "  <thead>\n",
       "    <tr style=\"text-align: right;\">\n",
       "      <th></th>\n",
       "      <th>tagID</th>\n",
       "      <th>tagValue</th>\n",
       "    </tr>\n",
       "  </thead>\n",
       "  <tbody>\n",
       "    <tr>\n",
       "      <th>8278</th>\n",
       "      <td>8688</td>\n",
       "      <td>steve reich</td>\n",
       "    </tr>\n",
       "    <tr>\n",
       "      <th>8248</th>\n",
       "      <td>8658</td>\n",
       "      <td>benga</td>\n",
       "    </tr>\n",
       "    <tr>\n",
       "      <th>10144</th>\n",
       "      <td>10703</td>\n",
       "      <td>out of ether and friends</td>\n",
       "    </tr>\n",
       "  </tbody>\n",
       "</table>\n",
       "</div>"
      ],
      "text/plain": [
       "       tagID                  tagValue\n",
       "8278    8688               steve reich\n",
       "8248    8658                     benga\n",
       "10144  10703  out of ether and friends"
      ]
     },
     "execution_count": 5,
     "metadata": {},
     "output_type": "execute_result"
    }
   ],
   "source": [
    "# The tags available in the dataset\n",
    "# tagID \\t tagValue\n",
    "# tags.shape\n",
    "tags.sample(3)"
   ]
  },
  {
   "cell_type": "code",
   "execution_count": 6,
   "metadata": {},
   "outputs": [
    {
     "data": {
      "text/html": [
       "<div>\n",
       "<table border=\"1\" class=\"dataframe\">\n",
       "  <thead>\n",
       "    <tr style=\"text-align: right;\">\n",
       "      <th></th>\n",
       "      <th>userID</th>\n",
       "      <th>artistID</th>\n",
       "      <th>weight</th>\n",
       "    </tr>\n",
       "  </thead>\n",
       "  <tbody>\n",
       "    <tr>\n",
       "      <th>26908</th>\n",
       "      <td>584</td>\n",
       "      <td>735</td>\n",
       "      <td>2440</td>\n",
       "    </tr>\n",
       "    <tr>\n",
       "      <th>55186</th>\n",
       "      <td>1230</td>\n",
       "      <td>13316</td>\n",
       "      <td>8</td>\n",
       "    </tr>\n",
       "    <tr>\n",
       "      <th>25952</th>\n",
       "      <td>565</td>\n",
       "      <td>187</td>\n",
       "      <td>439</td>\n",
       "    </tr>\n",
       "  </tbody>\n",
       "</table>\n",
       "</div>"
      ],
      "text/plain": [
       "       userID  artistID  weight\n",
       "26908     584       735    2440\n",
       "55186    1230     13316       8\n",
       "25952     565       187     439"
      ]
     },
     "execution_count": 6,
     "metadata": {},
     "output_type": "execute_result"
    }
   ],
   "source": [
    "# Contains the artists listened by each user, providing also\n",
    "# the listening count for each [user, artist] pair\n",
    "# userID \\t artistID \\t weight\n",
    "# user_artists.shape\n",
    "user_artists.sample(3)"
   ]
  },
  {
   "cell_type": "code",
   "execution_count": 7,
   "metadata": {},
   "outputs": [
    {
     "data": {
      "text/html": [
       "<div>\n",
       "<table border=\"1\" class=\"dataframe\">\n",
       "  <thead>\n",
       "    <tr style=\"text-align: right;\">\n",
       "      <th></th>\n",
       "      <th>userID</th>\n",
       "      <th>artistID</th>\n",
       "      <th>tagID</th>\n",
       "      <th>day</th>\n",
       "      <th>month</th>\n",
       "      <th>year</th>\n",
       "    </tr>\n",
       "  </thead>\n",
       "  <tbody>\n",
       "    <tr>\n",
       "      <th>106071</th>\n",
       "      <td>1202</td>\n",
       "      <td>15544</td>\n",
       "      <td>216</td>\n",
       "      <td>1</td>\n",
       "      <td>9</td>\n",
       "      <td>2008</td>\n",
       "    </tr>\n",
       "    <tr>\n",
       "      <th>53822</th>\n",
       "      <td>545</td>\n",
       "      <td>1593</td>\n",
       "      <td>167</td>\n",
       "      <td>1</td>\n",
       "      <td>10</td>\n",
       "      <td>2007</td>\n",
       "    </tr>\n",
       "    <tr>\n",
       "      <th>83280</th>\n",
       "      <td>921</td>\n",
       "      <td>11037</td>\n",
       "      <td>6164</td>\n",
       "      <td>1</td>\n",
       "      <td>8</td>\n",
       "      <td>2010</td>\n",
       "    </tr>\n",
       "  </tbody>\n",
       "</table>\n",
       "</div>"
      ],
      "text/plain": [
       "        userID  artistID  tagID  day  month  year\n",
       "106071    1202     15544    216    1      9  2008\n",
       "53822      545      1593    167    1     10  2007\n",
       "83280      921     11037   6164    1      8  2010"
      ]
     },
     "execution_count": 7,
     "metadata": {},
     "output_type": "execute_result"
    }
   ],
   "source": [
    "# Tag assignments of artists provided by each particular user\n",
    "# as well with the time of when was the tag assigned by the user\n",
    "# userID \\t artistID \\t tagID \\t day \\t month \\t year\n",
    "# user_taggedartists.shape\n",
    "user_taggedartists.sample(3)"
   ]
  },
  {
   "cell_type": "code",
   "execution_count": 8,
   "metadata": {},
   "outputs": [
    {
     "data": {
      "text/html": [
       "<div>\n",
       "<table border=\"1\" class=\"dataframe\">\n",
       "  <thead>\n",
       "    <tr style=\"text-align: right;\">\n",
       "      <th></th>\n",
       "      <th>userID</th>\n",
       "      <th>friendID</th>\n",
       "    </tr>\n",
       "  </thead>\n",
       "  <tbody>\n",
       "    <tr>\n",
       "      <th>2601</th>\n",
       "      <td>196</td>\n",
       "      <td>1130</td>\n",
       "    </tr>\n",
       "    <tr>\n",
       "      <th>23662</th>\n",
       "      <td>1918</td>\n",
       "      <td>215</td>\n",
       "    </tr>\n",
       "    <tr>\n",
       "      <th>17826</th>\n",
       "      <td>1403</td>\n",
       "      <td>1153</td>\n",
       "    </tr>\n",
       "  </tbody>\n",
       "</table>\n",
       "</div>"
      ],
      "text/plain": [
       "       userID  friendID\n",
       "2601      196      1130\n",
       "23662    1918       215\n",
       "17826    1403      1153"
      ]
     },
     "execution_count": 8,
     "metadata": {},
     "output_type": "execute_result"
    }
   ],
   "source": [
    "# Contains the friend relations between users in the database\n",
    "# userID \\t friendID\n",
    "# user_friends.shape\n",
    "user_friends.sample(3)"
   ]
  },
  {
   "cell_type": "markdown",
   "metadata": {},
   "source": [
    "Obj| shape \n",
    "--- | ---\n",
    "artists | (17632, 4)\n",
    "tags | (11946, 2)\n",
    "user_artists | (92834, 3)\n",
    "user_taggedartists | (186479, 6)\n",
    "user_friends | (25434, 2)"
   ]
  },
  {
   "cell_type": "code",
   "execution_count": 33,
   "metadata": {
    "scrolled": false
   },
   "outputs": [
    {
     "name": "stdout",
     "output_type": "stream",
     "text": [
      "artists with least followers\n",
      "          count\n",
      "artistID       \n",
      "9201          1\n",
      "12363         1\n",
      "12366         1\n",
      "--------------------\n",
      "artists with most followers\n",
      "          count\n",
      "artistID       \n",
      "288         484\n",
      "289         522\n",
      "89          611\n",
      "--------------------\n",
      "Amount of plays for the artist with least followers\n",
      "         weight\n",
      "            sum\n",
      "artistID       \n",
      "9201        139\n",
      "--------------------\n",
      "Amount of plays for the artist with most followers\n",
      "           weight\n",
      "              sum\n",
      "artistID         \n",
      "89        1291387\n",
      "artist with least plays\n",
      "          sum\n",
      "artistID     \n",
      "14371       1\n",
      "11746       1\n",
      "9493        1\n",
      "--------------------\n",
      "artist with Most plays\n",
      "              sum\n",
      "artistID         \n",
      "89        1291387\n",
      "72        1301308\n",
      "289       2393140\n",
      "--------------------\n",
      "Amount of users for the artist with least plays\n",
      "         userID\n",
      "          count\n",
      "artistID       \n",
      "14371         1\n",
      "--------------------\n",
      "Amount of users for the artist with most plays\n",
      "         userID\n",
      "          count\n",
      "artistID       \n",
      "289         522\n"
     ]
    },
    {
     "name": "stderr",
     "output_type": "stream",
     "text": [
      "/usr/lib/python3.6/site-packages/ipykernel/__main__.py:6: FutureWarning: sort(columns=....) is deprecated, use sort_values(by=.....)\n",
      "/usr/lib/python3.6/site-packages/ipykernel/__main__.py:9: FutureWarning: sort(columns=....) is deprecated, use sort_values(by=.....)\n",
      "/usr/lib/python3.6/site-packages/ipykernel/__main__.py:26: FutureWarning: sort(columns=....) is deprecated, use sort_values(by=.....)\n",
      "/usr/lib/python3.6/site-packages/ipykernel/__main__.py:29: FutureWarning: sort(columns=....) is deprecated, use sort_values(by=.....)\n"
     ]
    }
   ],
   "source": [
    "# What is the artist with most and least listeners?\n",
    "\n",
    "# - Most listeners\n",
    "listeners_agg = user_artists[['artistID','userID']].groupby('artistID', sort=False).agg(['count'])\n",
    "print(\"artists with least followers\")\n",
    "print(listeners_agg['userID'].sort('count').head(3)) #-- least 9201\n",
    "print(\"--------------------\")\n",
    "print(\"artists with most followers\")\n",
    "print(listeners_agg['userID'].sort('count').tail(3)) #-- most 89\n",
    "\n",
    "# And how many plays do they make?\n",
    "listens_agg = user_artists[['artistID', 'weight']].groupby(['artistID']).agg(['sum'])\n",
    "print(\"--------------------\")\n",
    "print(\"Amount of plays for the artist with least followers\")\n",
    "print(listens_agg.filter(regex='^9201$',axis=0)) # -- least 139 plays\n",
    "print(\"--------------------\")\n",
    "print(\"Amount of plays for the artist with most followers\")\n",
    "print(listens_agg.filter(regex='^89$',axis=0)) # -- most 1291387 plays\n",
    "# What are the tags made by those users?\n",
    "\n",
    "\n",
    "\n",
    "# What is the artist with most and the least listen counts? \n",
    "# (the least can't be 0, according with the description of the artist dataset)\n",
    "print(\"artist with least plays\")\n",
    "print(listens_agg['weight'].sort('sum').head(3)) # -- least 14371\n",
    "print(\"--------------------\")\n",
    "print(\"artist with Most plays\")\n",
    "print(listens_agg['weight'].sort('sum').tail(3)) # -- most 2393140\n",
    "\n",
    "# and how many users makes those listen counts?\n",
    "print(\"--------------------\")\n",
    "print(\"Amount of users for the artist with least plays\")\n",
    "print(listeners_agg.filter(regex='^14371$',axis=0)) # -- artist with less \n",
    "print(\"--------------------\")\n",
    "print(\"Amount of users for the artist with most plays\")\n",
    "print(listeners_agg.filter(regex='^289$',axis=0)) # -- artist with moee\n",
    "\n",
    "# What is the most and the least used tag?\n",
    "# What is the most and the least tagged artists?\n",
    "# What is the user that tagges the most and tagges the least? "
   ]
  },
  {
   "cell_type": "markdown",
   "metadata": {},
   "source": [
    "### The problem\n",
    "The database doesn't contain any rating/rate column, rather a _weight_ for each artists by user which works as a _listen_ counter. That said, there's going to be artists that has a high amount of plays, but little users - and viceversa.\n",
    "\n",
    "So, for this solution, the amount of plays has to be converted to a relative along to the amount of users. \n",
    "\n",
    "The following graph shows how the data is being shown.\n",
    "\n",
    "![Graph](graph.png)\n",
    "\n",
    "There has to be a function which gives a _weight_ or _cost_ in the relationships between artists, so we know which is the recommended artist.\n",
    "\n"
   ]
  },
  {
   "cell_type": "code",
   "execution_count": null,
   "metadata": {
    "collapsed": true
   },
   "outputs": [],
   "source": []
  }
 ],
 "metadata": {
  "anaconda-cloud": {},
  "kernelspec": {
   "display_name": "Python 3",
   "language": "python",
   "name": "python3"
  },
  "language_info": {
   "codemirror_mode": {
    "name": "ipython",
    "version": 3
   },
   "file_extension": ".py",
   "mimetype": "text/x-python",
   "name": "python",
   "nbconvert_exporter": "python",
   "pygments_lexer": "ipython3",
   "version": "3.6.1"
  }
 },
 "nbformat": 4,
 "nbformat_minor": 1
}
